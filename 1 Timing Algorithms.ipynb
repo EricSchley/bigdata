{
 "cells": [
  {
   "cell_type": "code",
   "execution_count": 1,
   "metadata": {},
   "outputs": [],
   "source": [
    "import random\n",
    "random.seed(1000)\n",
    "import matplotlib.pyplot as plt\n",
    "from timeit import default_timer as timer"
   ]
  },
  {
   "cell_type": "code",
   "execution_count": 2,
   "metadata": {},
   "outputs": [],
   "source": [
    "n = 100\n",
    "items = [int(random.random()*n) for _ in range(n)]\n",
    "i = int(random.random()*n)"
   ]
  },
  {
   "cell_type": "code",
   "execution_count": 3,
   "metadata": {},
   "outputs": [
    {
     "data": {
      "text/plain": [
       "100"
      ]
     },
     "execution_count": 3,
     "metadata": {},
     "output_type": "execute_result"
    }
   ],
   "source": [
    "n"
   ]
  },
  {
   "cell_type": "code",
   "execution_count": 4,
   "metadata": {},
   "outputs": [],
   "source": [
    "def calc_mean(items):\n",
    "    n = 0\n",
    "    sum_of_items = 0\n",
    "    for item in items:\n",
    "        sum_of_items += item\n",
    "        n += 1\n",
    "    return sum_of_items / n"
   ]
  },
  {
   "cell_type": "code",
   "execution_count": 5,
   "metadata": {},
   "outputs": [
    {
     "data": {
      "text/plain": [
       "49.41"
      ]
     },
     "execution_count": 5,
     "metadata": {},
     "output_type": "execute_result"
    }
   ],
   "source": [
    "calc_mean(items)"
   ]
  },
  {
   "cell_type": "markdown",
   "metadata": {},
   "source": [
    "# Different Timing Possibilities"
   ]
  },
  {
   "cell_type": "code",
   "execution_count": 27,
   "metadata": {},
   "outputs": [
    {
     "name": "stdout",
     "output_type": "stream",
     "text": [
      "54.7 µs ± 1.17 µs per loop (mean ± std. dev. of 7 runs, 10000 loops each)\n"
     ]
    }
   ],
   "source": [
    "%%timeit\n",
    "calc_mean(items)"
   ]
  },
  {
   "cell_type": "code",
   "execution_count": 7,
   "metadata": {},
   "outputs": [
    {
     "name": "stdout",
     "output_type": "stream",
     "text": [
      "5.59 µs ± 45.7 ns per loop (mean ± std. dev. of 7 runs, 100000 loops each)\n"
     ]
    }
   ],
   "source": [
    "time = %timeit -oq calc_mean(items)\n",
    "print(time)"
   ]
  },
  {
   "cell_type": "code",
   "execution_count": 8,
   "metadata": {},
   "outputs": [
    {
     "name": "stdout",
     "output_type": "stream",
     "text": [
      "0.00011459999998919557\n"
     ]
    }
   ],
   "source": [
    "start = timer() \n",
    "calc_mean(items)\n",
    "end = timer() \n",
    "\n",
    "time = end - start\n",
    "print(time)\n",
    "# Time in seconds"
   ]
  },
  {
   "cell_type": "markdown",
   "metadata": {},
   "source": [
    "# Algorithms with Different Time Complexity"
   ]
  },
  {
   "cell_type": "code",
   "execution_count": 9,
   "metadata": {},
   "outputs": [],
   "source": [
    "def get_first_item(items):\n",
    "    \"\"\"Get the first item in a list\n",
    "    \n",
    "    :param items: list of items\n",
    "    :returns: first element\n",
    "    \"\"\"\n",
    "    return(items[0])"
   ]
  },
  {
   "cell_type": "code",
   "execution_count": 10,
   "metadata": {},
   "outputs": [],
   "source": [
    "def get_any_item(items, i):\n",
    "    if i == -1:\n",
    "        print(\"Not in the list\")\n",
    "    else:\n",
    "        return(items[i])"
   ]
  },
  {
   "cell_type": "code",
   "execution_count": 11,
   "metadata": {},
   "outputs": [],
   "source": [
    "def find_max(items):\n",
    "    \"\"\"Get the maximum value in a list of items\n",
    "    \n",
    "    :param items: list of items\n",
    "    :returns: maximum value in the list\n",
    "    \"\"\"\n",
    "    max = -1000000000\n",
    "    for item in items:\n",
    "        if item > max:\n",
    "            max = item\n",
    "    return max"
   ]
  },
  {
   "cell_type": "code",
   "execution_count": 12,
   "metadata": {},
   "outputs": [],
   "source": [
    "def find_minmax1(items):\n",
    "    \"\"\"Get the maximum value in a list of items\n",
    "    \n",
    "    :param items: list of items\n",
    "    :returns: tuple of mininum and maximum values \n",
    "    \"\"\"\n",
    "    max = -1000000000000\n",
    "    min = 10000000000000\n",
    "    for item in items:\n",
    "        if item > max:\n",
    "            max = item\n",
    "            \n",
    "    for item in items:\n",
    "        if item < min:\n",
    "            min = item\n",
    "    return (min, max)"
   ]
  },
  {
   "cell_type": "code",
   "execution_count": 13,
   "metadata": {},
   "outputs": [],
   "source": [
    "def find_minmax2(items):\n",
    "    \"\"\"Get the maximum value in a list of items\n",
    "    \n",
    "    :param items: list of items\n",
    "    :returns: tuple of mininum and maximum values \n",
    "    \"\"\"\n",
    "    max = -1000000000000\n",
    "    min = 10000000000000\n",
    "    for item in items:\n",
    "        if item > max:\n",
    "            max = item\n",
    "        if item < min:\n",
    "            min = item\n",
    "    return (min, max)"
   ]
  },
  {
   "cell_type": "code",
   "execution_count": 14,
   "metadata": {},
   "outputs": [],
   "source": [
    "def all_combinations(items):\n",
    "    combinations = []\n",
    "    for item1 in items:\n",
    "        for item2 in items:\n",
    "            combinations.append((item1, item2))\n",
    "    return combinations"
   ]
  },
  {
   "cell_type": "markdown",
   "metadata": {},
   "source": [
    "# Comparision of Times\n",
    "\n",
    "| Symbol  | Name        | Unit      |\n",
    "|---------|-------------|-----------|\n",
    "| ns      | nanosecond  | $10^{-9}$ |\n",
    "| μs (us) | microsecond | $10^{-6}$ |\n",
    "| ms      | millisecond | $10^{-3}$ |\n",
    "| s       | second      | $10^{0}$|"
   ]
  },
  {
   "cell_type": "markdown",
   "metadata": {},
   "source": [
    "# Timing of the Algorithms"
   ]
  },
  {
   "cell_type": "code",
   "execution_count": 15,
   "metadata": {},
   "outputs": [
    {
     "name": "stdout",
     "output_type": "stream",
     "text": [
      "85 ns ± 0.866 ns per loop (mean ± std. dev. of 7 runs, 10000000 loops each)\n"
     ]
    }
   ],
   "source": [
    "%%timeit\n",
    "get_first_item(items)"
   ]
  },
  {
   "cell_type": "code",
   "execution_count": 16,
   "metadata": {},
   "outputs": [
    {
     "name": "stdout",
     "output_type": "stream",
     "text": [
      "116 ns ± 1.05 ns per loop (mean ± std. dev. of 7 runs, 10000000 loops each)\n"
     ]
    }
   ],
   "source": [
    "%%timeit\n",
    "get_any_item(items, i)"
   ]
  },
  {
   "cell_type": "code",
   "execution_count": 17,
   "metadata": {},
   "outputs": [
    {
     "name": "stdout",
     "output_type": "stream",
     "text": [
      "2.65 µs ± 39.6 ns per loop (mean ± std. dev. of 7 runs, 100000 loops each)\n"
     ]
    }
   ],
   "source": [
    "%%timeit\n",
    "find_max(items)"
   ]
  },
  {
   "cell_type": "code",
   "execution_count": 18,
   "metadata": {},
   "outputs": [
    {
     "name": "stdout",
     "output_type": "stream",
     "text": [
      "5.3 µs ± 44.8 ns per loop (mean ± std. dev. of 7 runs, 100000 loops each)\n"
     ]
    }
   ],
   "source": [
    "%%timeit\n",
    "find_minmax1(items)"
   ]
  },
  {
   "cell_type": "code",
   "execution_count": 19,
   "metadata": {},
   "outputs": [
    {
     "name": "stdout",
     "output_type": "stream",
     "text": [
      "4.64 µs ± 44.8 ns per loop (mean ± std. dev. of 7 runs, 100000 loops each)\n"
     ]
    }
   ],
   "source": [
    "%%timeit\n",
    "find_minmax2(items)"
   ]
  },
  {
   "cell_type": "code",
   "execution_count": 20,
   "metadata": {},
   "outputs": [
    {
     "name": "stdout",
     "output_type": "stream",
     "text": [
      "803 µs ± 12.8 µs per loop (mean ± std. dev. of 7 runs, 1000 loops each)\n"
     ]
    }
   ],
   "source": [
    "%%timeit\n",
    "all_combinations(items)"
   ]
  },
  {
   "cell_type": "markdown",
   "metadata": {},
   "source": [
    "# Plotting Time as a Function of Input Size n"
   ]
  },
  {
   "cell_type": "code",
   "execution_count": 21,
   "metadata": {},
   "outputs": [],
   "source": [
    "list_of_n = [10, 50, 100, 200, 300, 400, 600, 800]"
   ]
  },
  {
   "cell_type": "markdown",
   "metadata": {},
   "source": [
    "## Constant"
   ]
  },
  {
   "cell_type": "code",
   "execution_count": 23,
   "metadata": {},
   "outputs": [
    {
     "name": "stdout",
     "output_type": "stream",
     "text": [
      "84.6 ns ± 0.719 ns per loop (mean ± std. dev. of 7 runs, 10000000 loops each)\n",
      "85.4 ns ± 0.681 ns per loop (mean ± std. dev. of 7 runs, 10000000 loops each)\n",
      "85.2 ns ± 0.792 ns per loop (mean ± std. dev. of 7 runs, 10000000 loops each)\n",
      "85.4 ns ± 0.866 ns per loop (mean ± std. dev. of 7 runs, 10000000 loops each)\n",
      "85.6 ns ± 0.847 ns per loop (mean ± std. dev. of 7 runs, 10000000 loops each)\n",
      "86.2 ns ± 0.757 ns per loop (mean ± std. dev. of 7 runs, 10000000 loops each)\n",
      "85.9 ns ± 0.369 ns per loop (mean ± std. dev. of 7 runs, 10000000 loops each)\n",
      "86.6 ns ± 0.311 ns per loop (mean ± std. dev. of 7 runs, 10000000 loops each)\n"
     ]
    },
    {
     "data": {
      "image/png": "[encoded data removed]",
      "text/plain": [
       "<Figure size 432x288 with 1 Axes>"
      ]
     },
     "metadata": {
      "needs_background": "light"
     },
     "output_type": "display_data"
    }
   ],
   "source": [
    "measures = []\n",
    "for n in list_of_n:\n",
    "    items = [int(random.random()*n) for _ in range(n)]\n",
    "    time = %timeit -o get_first_item(items)\n",
    "    measures.append((n, time.average))\n",
    "plt.plot(*zip(*measures))\n",
    "plt.ylim(ymin=0)\n",
    "plt.show()"
   ]
  },
  {
   "cell_type": "markdown",
   "metadata": {},
   "source": [
    "## Linear"
   ]
  },
  {
   "cell_type": "code",
   "execution_count": 24,
   "metadata": {},
   "outputs": [
    {
     "name": "stdout",
     "output_type": "stream",
     "text": [
      "361 ns ± 4.27 ns per loop (mean ± std. dev. of 7 runs, 1000000 loops each)\n",
      "1.39 µs ± 11.2 ns per loop (mean ± std. dev. of 7 runs, 1000000 loops each)\n",
      "2.66 µs ± 23.7 ns per loop (mean ± std. dev. of 7 runs, 100000 loops each)\n",
      "5.05 µs ± 62.6 ns per loop (mean ± std. dev. of 7 runs, 100000 loops each)\n",
      "7.56 µs ± 37.1 ns per loop (mean ± std. dev. of 7 runs, 100000 loops each)\n",
      "10.2 µs ± 65.4 ns per loop (mean ± std. dev. of 7 runs, 100000 loops each)\n",
      "15.4 µs ± 114 ns per loop (mean ± std. dev. of 7 runs, 100000 loops each)\n",
      "20.1 µs ± 82.4 ns per loop (mean ± std. dev. of 7 runs, 10000 loops each)\n"
     ]
    },
    {
     "data": {
      "image/png": "[encoded data removed]",
      "text/plain": [
       "<Figure size 432x288 with 1 Axes>"
      ]
     },
     "metadata": {
      "needs_background": "light"
     },
     "output_type": "display_data"
    }
   ],
   "source": [
    "measures = []\n",
    "for n in list_of_n:\n",
    "    items = [int(random.random()*n) for _ in range(n)]\n",
    "    time = %timeit -o find_max(items)\n",
    "    measures.append((n, time.average))\n",
    "plt.plot(*zip(*measures))\n",
    "plt.ylim(ymin=0)\n",
    "plt.show()"
   ]
  },
  {
   "cell_type": "code",
   "execution_count": 30,
   "metadata": {},
   "outputs": [
    {
     "name": "stdout",
     "output_type": "stream",
     "text": [
      "874 ns ± 40.7 ns per loop (mean ± std. dev. of 7 runs, 1000000 loops each)\n",
      "3.24 µs ± 165 ns per loop (mean ± std. dev. of 7 runs, 100000 loops each)\n",
      "6.31 µs ± 542 ns per loop (mean ± std. dev. of 7 runs, 100000 loops each)\n",
      "11.8 µs ± 671 ns per loop (mean ± std. dev. of 7 runs, 100000 loops each)\n",
      "20.2 µs ± 2.32 µs per loop (mean ± std. dev. of 7 runs, 100000 loops each)\n",
      "26.6 µs ± 3.78 µs per loop (mean ± std. dev. of 7 runs, 10000 loops each)\n",
      "40.2 µs ± 6.48 µs per loop (mean ± std. dev. of 7 runs, 10000 loops each)\n",
      "57.7 µs ± 9.01 µs per loop (mean ± std. dev. of 7 runs, 10000 loops each)\n"
     ]
    },
    {
     "data": {
      "image/png": "[encoded data removed]",
      "text/plain": [
       "<Figure size 432x288 with 1 Axes>"
      ]
     },
     "metadata": {
      "needs_background": "light"
     },
     "output_type": "display_data"
    }
   ],
   "source": [
    "measures = []\n",
    "for n in list_of_n:\n",
    "    items = [int(random.random()*n) for _ in range(n)]\n",
    "    time = %timeit -o find_minmax1(items)\n",
    "    measures.append((n, time.average))\n",
    "plt.plot(*zip(*measures))\n",
    "plt.ylim(ymin=0)\n",
    "plt.show()"
   ]
  },
  {
   "cell_type": "code",
   "execution_count": 26,
   "metadata": {},
   "outputs": [
    {
     "name": "stdout",
     "output_type": "stream",
     "text": [
      "612 ns ± 5.58 ns per loop (mean ± std. dev. of 7 runs, 1000000 loops each)\n",
      "2.44 µs ± 9.05 ns per loop (mean ± std. dev. of 7 runs, 100000 loops each)\n",
      "4.52 µs ± 43.1 ns per loop (mean ± std. dev. of 7 runs, 100000 loops each)\n",
      "9.28 µs ± 29.1 ns per loop (mean ± std. dev. of 7 runs, 100000 loops each)\n",
      "13.8 µs ± 42.1 ns per loop (mean ± std. dev. of 7 runs, 100000 loops each)\n",
      "18.4 µs ± 172 ns per loop (mean ± std. dev. of 7 runs, 100000 loops each)\n",
      "27.8 µs ± 204 ns per loop (mean ± std. dev. of 7 runs, 10000 loops each)\n",
      "38 µs ± 1.26 µs per loop (mean ± std. dev. of 7 runs, 10000 loops each)\n"
     ]
    },
    {
     "data": {
      "image/png": "[encoded data removed]",
      "text/plain": [
       "<Figure size 432x288 with 1 Axes>"
      ]
     },
     "metadata": {
      "needs_background": "light"
     },
     "output_type": "display_data"
    }
   ],
   "source": [
    "measures = []\n",
    "for n in list_of_n:\n",
    "    items = [int(random.random()*n) for _ in range(n)]\n",
    "    time = %timeit -o find_minmax2(items)\n",
    "    measures.append((n, time.average))\n",
    "plt.plot(*zip(*measures))\n",
    "plt.ylim(ymin=0)\n",
    "plt.show()"
   ]
  },
  {
   "cell_type": "markdown",
   "metadata": {},
   "source": [
    "## Quadratic"
   ]
  },
  {
   "cell_type": "code",
   "execution_count": 25,
   "metadata": {},
   "outputs": [
    {
     "name": "stdout",
     "output_type": "stream",
     "text": [
      "8.18 µs ± 93.7 ns per loop (mean ± std. dev. of 7 runs, 100000 loops each)\n",
      "199 µs ± 4.06 µs per loop (mean ± std. dev. of 7 runs, 1000 loops each)\n",
      "813 µs ± 12.7 µs per loop (mean ± std. dev. of 7 runs, 1000 loops each)\n",
      "3.64 ms ± 62.2 µs per loop (mean ± std. dev. of 7 runs, 100 loops each)\n",
      "8.74 ms ± 138 µs per loop (mean ± std. dev. of 7 runs, 100 loops each)\n",
      "16.9 ms ± 309 µs per loop (mean ± std. dev. of 7 runs, 100 loops each)\n",
      "41.9 ms ± 309 µs per loop (mean ± std. dev. of 7 runs, 10 loops each)\n",
      "76.6 ms ± 778 µs per loop (mean ± std. dev. of 7 runs, 10 loops each)\n"
     ]
    },
    {
     "data": {
      "image/png": "[encoded data removed]",
      "text/plain": [
       "<Figure size 432x288 with 1 Axes>"
      ]
     },
     "metadata": {
      "needs_background": "light"
     },
     "output_type": "display_data"
    }
   ],
   "source": [
    "measures = []\n",
    "for n in list_of_n:\n",
    "    items = [int(random.random()*n) for _ in range(n)]\n",
    "    time = %timeit -o all_combinations(items)\n",
    "    measures.append((n, time.average))\n",
    "plt.plot(*zip(*measures))\n",
    "plt.ylim(ymin=0)\n",
    "plt.show()"
   ]
  }
 ],
 "metadata": {
  "kernelspec": {
   "display_name": "Python 3 (ipykernel)",
   "language": "python",
   "name": "python3"
  },
  "language_info": {
   "codemirror_mode": {
    "name": "ipython",
    "version": 3
   },
   "file_extension": ".py",
   "mimetype": "text/x-python",
   "name": "python",
   "nbconvert_exporter": "python",
   "pygments_lexer": "ipython3",
   "version": "3.9.7"
  },
  "varInspector": {
   "cols": {
    "lenName": 16,
    "lenType": 16,
    "lenVar": 40
   },
   "kernels_config": {
    "python": {
     "delete_cmd_postfix": "",
     "delete_cmd_prefix": "del ",
     "library": "var_list.py",
     "varRefreshCmd": "print(var_dic_list())"
    },
    "r": {
     "delete_cmd_postfix": ") ",
     "delete_cmd_prefix": "rm(",
     "library": "var_list.r",
     "varRefreshCmd": "cat(var_dic_list()) "
    }
   },
   "types_to_exclude": [
    "module",
    "function",
    "builtin_function_or_method",
    "instance",
    "_Feature"
   ],
   "window_display": false
  }
 },
 "nbformat": 4,
 "nbformat_minor": 4
}
